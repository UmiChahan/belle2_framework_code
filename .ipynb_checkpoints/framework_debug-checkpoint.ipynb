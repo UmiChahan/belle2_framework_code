{
 "cells": [
  {
   "cell_type": "code",
   "execution_count": null,
   "id": "13b16170-9ac5-485a-995b-ebb8bbf0b1b6",
   "metadata": {},
   "outputs": [],
   "source": [
    "# from belle2_enhanced_framework import create_belle2_framework\n",
    "# framework = create_belle2_framework(particle_type='vpho', memory_budget_gb=32.0,energy_condition='5S_scan')\n",
    "# processes = framework.load_particle_data(\n",
    "#     \"/gpfs/group/belle2/users2022/kyldem/photoneff_updated/parquet_storage/try5\",\n",
    "#     particle='vpho'  # Automatically uses VPHO_KEYS columns\n",
    "# )"
   ]
  },
  {
   "cell_type": "code",
   "execution_count": 3,
   "id": "86aca2af-5d06-4662-9bbf-26a4ffbb7aa3",
   "metadata": {},
   "outputs": [
    {
     "name": "stdout",
     "output_type": "stream",
     "text": [
      "Defaulting to user installation because normal site-packages is not writeable\n",
      "Requirement already satisfied: polars in /afs/desy.de/user/k/kyldem/.local/lib/python3.9/site-packages (1.32.0)\n",
      "\n",
      "\u001b[1m[\u001b[0m\u001b[34;49mnotice\u001b[0m\u001b[1;39;49m]\u001b[0m\u001b[39;49m A new release of pip is available: \u001b[0m\u001b[31;49m24.1.1\u001b[0m\u001b[39;49m -> \u001b[0m\u001b[32;49m25.2\u001b[0m\n",
      "\u001b[1m[\u001b[0m\u001b[34;49mnotice\u001b[0m\u001b[1;39;49m]\u001b[0m\u001b[39;49m To update, run: \u001b[0m\u001b[32;49mpip install --upgrade pip\u001b[0m\n"
     ]
    },
    {
     "ename": "ModuleNotFoundError",
     "evalue": "No module named 'polars'",
     "output_type": "error",
     "traceback": [
      "\u001b[0;31m---------------------------------------------------------------------------\u001b[0m",
      "\u001b[0;31mModuleNotFoundError\u001b[0m                       Traceback (most recent call last)",
      "Cell \u001b[0;32mIn[3], line 2\u001b[0m\n\u001b[1;32m      1\u001b[0m get_ipython()\u001b[38;5;241m.\u001b[39msystem(\u001b[38;5;124m'\u001b[39m\u001b[38;5;124mpip3 install polars\u001b[39m\u001b[38;5;124m'\u001b[39m)\n\u001b[0;32m----> 2\u001b[0m \u001b[38;5;28;01mfrom\u001b[39;00m \u001b[38;5;21;01mbelle2_enhanced_framework\u001b[39;00m \u001b[38;5;28;01mimport\u001b[39;00m create_belle2_framework, ParticleDataLoaderV3\n\u001b[1;32m      3\u001b[0m framework \u001b[38;5;241m=\u001b[39m create_belle2_framework(energy_condition\u001b[38;5;241m=\u001b[39m\u001b[38;5;124m'\u001b[39m\u001b[38;5;124m4S_offres\u001b[39m\u001b[38;5;124m'\u001b[39m)\n\u001b[1;32m      4\u001b[0m loader \u001b[38;5;241m=\u001b[39m ParticleDataLoaderV3(particle_type\u001b[38;5;241m=\u001b[39m\u001b[38;5;124m'\u001b[39m\u001b[38;5;124mvpho\u001b[39m\u001b[38;5;124m'\u001b[39m, config\u001b[38;5;241m=\u001b[39mframework\u001b[38;5;241m.\u001b[39mconfig)\n",
      "File \u001b[0;32m~/belle2_framework_code/belle2_enhanced_framework.py:19\u001b[0m\n\u001b[1;32m      1\u001b[0m \u001b[38;5;124;03m\"\"\"\u001b[39;00m\n\u001b[1;32m      2\u001b[0m \u001b[38;5;124;03mBelle II Enhanced Production Framework v3.0\u001b[39;00m\n\u001b[1;32m      3\u001b[0m \u001b[38;5;124;03m===========================================\u001b[39;00m\n\u001b[0;32m   (...)\u001b[0m\n\u001b[1;32m     15\u001b[0m \u001b[38;5;124;03mAuthor: Enhanced Architecture v3.0\u001b[39;00m\n\u001b[1;32m     16\u001b[0m \u001b[38;5;124;03m\"\"\"\u001b[39;00m\n\u001b[1;32m     18\u001b[0m \u001b[38;5;28;01mimport\u001b[39;00m \u001b[38;5;21;01mnumpy\u001b[39;00m \u001b[38;5;28;01mas\u001b[39;00m \u001b[38;5;21;01mnp\u001b[39;00m\n\u001b[0;32m---> 19\u001b[0m \u001b[38;5;28;01mimport\u001b[39;00m \u001b[38;5;21;01mpolars\u001b[39;00m \u001b[38;5;28;01mas\u001b[39;00m \u001b[38;5;21;01mpl\u001b[39;00m\n\u001b[1;32m     20\u001b[0m \u001b[38;5;28;01mimport\u001b[39;00m \u001b[38;5;21;01mmatplotlib\u001b[39;00m\u001b[38;5;21;01m.\u001b[39;00m\u001b[38;5;21;01mpyplot\u001b[39;00m \u001b[38;5;28;01mas\u001b[39;00m \u001b[38;5;21;01mplt\u001b[39;00m\n\u001b[1;32m     21\u001b[0m \u001b[38;5;28;01mfrom\u001b[39;00m \u001b[38;5;21;01mmatplotlib\u001b[39;00m\u001b[38;5;21;01m.\u001b[39;00m\u001b[38;5;21;01mgridspec\u001b[39;00m \u001b[38;5;28;01mimport\u001b[39;00m GridSpec\n",
      "\u001b[0;31mModuleNotFoundError\u001b[0m: No module named 'polars'"
     ]
    }
   ],
   "source": [
    "!pip3 install polars\n",
    "from belle2_enhanced_framework import create_belle2_framework, ParticleDataLoaderV3\n",
    "framework = create_belle2_framework(energy_condition='4S_offres')\n",
    "loader = ParticleDataLoaderV3(particle_type='vpho', config=framework.config)\n",
    "processes = loader.load_flat_structure(\n",
    "    base_dir='/pnfs/desy.de/belle/local/user/sraiz/photon_efficiency/gammaEffKLM_Prompt_combinedFilesMerged',\n",
    "    data_type='selected'  # or 'matched'\n",
    "    \n",
    ")"
   ]
  },
  {
   "cell_type": "code",
   "execution_count": 1,
   "id": "2af1b321-4f3a-413b-b048-267b599463a7",
   "metadata": {},
   "outputs": [
    {
     "ename": "NameError",
     "evalue": "name 'Belle2ProductionFramework' is not defined",
     "output_type": "error",
     "traceback": [
      "\u001b[0;31m---------------------------------------------------------------------------\u001b[0m",
      "\u001b[0;31mNameError\u001b[0m                                 Traceback (most recent call last)",
      "Cell \u001b[0;32mIn[1], line 1\u001b[0m\n\u001b[0;32m----> 1\u001b[0m framework \u001b[38;5;241m=\u001b[39m \u001b[43mBelle2ProductionFramework\u001b[49m(\n\u001b[1;32m      2\u001b[0m     config\u001b[38;5;241m=\u001b[39mFrameworkConfig(\n\u001b[1;32m      3\u001b[0m         memory_budget_gb\u001b[38;5;241m=\u001b[39m\u001b[38;5;241m16.0\u001b[39m,\n\u001b[1;32m      4\u001b[0m         energy_condition\u001b[38;5;241m=\u001b[39m\u001b[38;5;124m'\u001b[39m\u001b[38;5;124m5S_scan\u001b[39m\u001b[38;5;124m'\u001b[39m,\n\u001b[1;32m      5\u001b[0m         apply_luminosity_weights\u001b[38;5;241m=\u001b[39m\u001b[38;5;28;01mTrue\u001b[39;00m\n\u001b[1;32m      6\u001b[0m     )\n\u001b[1;32m      7\u001b[0m )\n",
      "\u001b[0;31mNameError\u001b[0m: name 'Belle2ProductionFramework' is not defined"
     ]
    }
   ],
   "source": [
    "\n",
    "from importlib import reload\n",
    "import belle2_enhanced_framework\n",
    "reload(belle2_enhanced_framework)\n",
    "from belle2_enhanced_framework import create_belle2_framework, OptimizedUltraLazyDict\n",
    "# Run analysis for each variable\n",
    "# Define variables with their binning\n",
    "variables = [\n",
    "    ('pRecoil', 100, (0.1, 6)),\n",
    "\n",
    "    ('mu1P', 60, (0, 3)),\n",
    "    ('mu2P', 60, (0, 3)),\n",
    "]\n",
    "# Define physics cuts\n",
    "full_cut = 'mu1nCDCHits>4&mu2nCDCHits>4&0.8>mu1clusterEoP&0.8>mu2clusterEoP&2.6179938779914944>pRecoilTheta>0.29670597283903605&11>totalMuonMomentum&absdPhi>1.5707963267948966&2.03>mu1Theta>0.61&2.03>mu2Theta>0.61&(absdPhiMu1>0.4014257279586958|absdThetaMu1>0.4014257279586958)&(absdPhiMu2>0.4014257279586958|absdThetaMu2>0.4014257279586958)&0.35>mu1clusterE&0.35>mu2clusterE&3>abs(m2Recoil)&min_deltaMuPRecoil>-0.01'\n",
    "user_cuts = full_cut.split('&') if full_cut else []\n",
    "all_results = {}\n",
    "for var_name, bins, range_tuple in variables:\n",
    "    print(f\"\\n📊 Analyzing {var_name}...\")\n",
    "    results = framework.run_progressive_analysis(\n",
    "        processes,\n",
    "        variable=var_name,\n",
    "        bins=bins,\n",
    "        range=range_tuple,\n",
    "        cuts=user_cuts,\n",
    "        stages=['baseline', 'candidates', 'cuts'],  # Standard progression\n",
    "        outputdir=f'./analysis{var_name}'\n",
    "    )\n",
    "    all_results[var_name] = results"
   ]
  }
 ],
 "metadata": {
  "kernelspec": {
   "display_name": "Python 3 (ipykernel)",
   "language": "python",
   "name": "python3"
  },
  "language_info": {
   "codemirror_mode": {
    "name": "ipython",
    "version": 3
   },
   "file_extension": ".py",
   "mimetype": "text/x-python",
   "name": "python",
   "nbconvert_exporter": "python",
   "pygments_lexer": "ipython3",
   "version": "3.12.9"
  }
 },
 "nbformat": 4,
 "nbformat_minor": 5
}
